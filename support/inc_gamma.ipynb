{
 "cells": [
  {
   "cell_type": "code",
   "execution_count": 3,
   "metadata": {
    "autoscroll": "json-false",
    "collapsed": false,
    "ein.tags": [
     "worksheet-0"
    ]
   },
   "outputs": [],
   "source": [
    "import scipy.linalg as la\n",
    "import numpy as np"
   ]
  },
  {
   "cell_type": "code",
   "execution_count": 5,
   "metadata": {
    "autoscroll": "json-false",
    "collapsed": false,
    "ein.tags": [
     "worksheet-0"
    ]
   },
   "outputs": [
    {
     "data": {
      "text/plain": [
       "(2.6299999999999999+0.46000000000000002j)"
      ]
     },
     "execution_count": 5,
     "metadata": {},
     "output_type": "execute_result"
    }
   ],
   "source": [
    "x = np.array([1.1+0.1j, 1.2+0.1j])\n",
    "sum(x*x)"
   ]
  },
  {
   "cell_type": "code",
   "execution_count": 33,
   "metadata": {
    "autoscroll": "json-false",
    "collapsed": false,
    "ein.tags": [
     "worksheet-0"
    ]
   },
   "outputs": [],
   "source": [
    "def cnorm(x):\n",
    "    return np.sqrt(np.sum(x*x))\n",
    "\n",
    "def matrix_inv_sqrt(s):\n",
    "    (eigs, vecs) = la.eig(s)\n",
    "\n",
    "    # -- normalize the eigen vector --\n",
    "    vecs = np.array([v/cnorm(v) for v in vecs])\n",
    "\n",
    "    # -- compute lambda_ij = delta_ij / sqrt(eig_i)\n",
    "    lambda_mat = np.diag(np.array([1.0/np.sqrt(eig) for eig in eigs]))\n",
    "\n",
    "    # -- compute S^(-1/2) = D lambda D^T --\n",
    "    s_inv_sqrt = np.dot(vecs, np.dot(lambda_mat, vecs.transpose()))\n",
    "    return s_inv_sqrt\n",
    "\n",
    "def sym_eig(h, s):\n",
    "    s2inv = matrix_inv_sqrt(s)\n",
    "    hp = np.dot(s2inv, np.dot(h, s2inv))\n",
    "    \n",
    "    (eigs, vecs) = la.eig(hp)\n",
    "    vecs = np.dot(s2inv, vecs)\n",
    "    return (eigs, vecs)"
   ]
  },
  {
   "cell_type": "code",
   "execution_count": 32,
   "metadata": {
    "autoscroll": "json-false",
    "collapsed": false,
    "ein.tags": [
     "worksheet-0"
    ]
   },
   "outputs": [
    {
     "data": {
      "text/plain": [
       "array([[  1.00000000e+00 +0.00000000e+00j,\n         -1.66533454e-16 +4.16333634e-17j],\n       [  1.11022302e-16 +0.00000000e+00j,\n          1.00000000e+00 +0.00000000e+00j]])"
      ]
     },
     "execution_count": 32,
     "metadata": {},
     "output_type": "execute_result"
    }
   ],
   "source": [
    "amat = np.array([[2.0, 1.0], [1.0, -1.0]])\n",
    "a2inv = matrix_inv_sqrt(amat)\n",
    "np.dot(np.dot(a2inv, a2inv), amat)"
   ]
  },
  {
   "cell_type": "code",
   "execution_count": 50,
   "metadata": {
    "autoscroll": "json-false",
    "collapsed": false,
    "ein.tags": [
     "worksheet-0"
    ]
   },
   "outputs": [
    {
     "data": {
      "text/plain": [
       "array([ -1.33226763e-15+0.j,   1.11022302e-16+0.j])"
      ]
     },
     "execution_count": 50,
     "metadata": {},
     "output_type": "execute_result"
    }
   ],
   "source": [
    "hmat = np.array([[2.0, 1.0], [1.0, -1.0]])\n",
    "smat = np.array([[1.0, 0.1], [0.1, 1.0]])\n",
    "(vs, cmat) = sym_eig(hmat, smat)\n",
    "np.dot(hmat, cmat.T[0]) - np.dot(smat, cmat.T[0]) * vs[0]"
   ]
  },
  {
   "cell_type": "code",
   "execution_count": 48,
   "metadata": {
    "autoscroll": "json-false",
    "collapsed": false,
    "ein.tags": [
     "worksheet-0"
    ]
   },
   "outputs": [
    {
     "data": {
      "text/plain": [
       "array([  4.44089210e-16+0.j,   0.00000000e+00+0.j])"
      ]
     },
     "execution_count": 48,
     "metadata": {},
     "output_type": "execute_result"
    }
   ],
   "source": [
    "amat = np.array([[2.0, 1.0], [1.0, -1.0]])\n",
    "eigval, eigvec = la.eig(amat)\n",
    "np.dot(amat, eigvec.T[0]) - eigvec.T[0]*eigval[0]"
   ]
  }
 ],
 "metadata": {},
 "nbformat": 4,
 "nbformat_minor": 0
}
